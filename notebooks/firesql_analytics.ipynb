{
 "cells": [
  {
   "cell_type": "markdown",
   "metadata": {},
   "source": [
    "## FireSQL Programming Interface\n",
    "We provided a simple firebase SQL interface class that can be easily applied a SQL statement to fetch from Firebase collections."
   ]
  },
  {
   "cell_type": "code",
   "execution_count": 1,
   "metadata": {},
   "outputs": [],
   "source": [
    "from firesql.firebase import FirebaseClient\n",
    "\n",
    "client = FirebaseClient()\n",
    "client.connect(credentials_json='../credentials/credentials.json')\n"
   ]
  },
  {
   "cell_type": "code",
   "execution_count": 2,
   "metadata": {},
   "outputs": [],
   "source": [
    "from firesql.sql import FireSQL\n",
    "from firesql.sql.sql_fire_client import FireSQLClient\n",
    "import pandas as pd\n",
    "\n",
    "fireSQL = FireSQL()\n",
    "sqlClient = FireSQLClient(client)"
   ]
  },
  {
   "cell_type": "code",
   "execution_count": 3,
   "metadata": {},
   "outputs": [
    {
     "data": {
      "text/html": [
       "<div>\n",
       "<style scoped>\n",
       "    .dataframe tbody tr th:only-of-type {\n",
       "        vertical-align: middle;\n",
       "    }\n",
       "\n",
       "    .dataframe tbody tr th {\n",
       "        vertical-align: top;\n",
       "    }\n",
       "\n",
       "    .dataframe thead th {\n",
       "        text-align: right;\n",
       "    }\n",
       "</style>\n",
       "<table border=\"1\" class=\"dataframe\">\n",
       "  <thead>\n",
       "    <tr style=\"text-align: right;\">\n",
       "      <th></th>\n",
       "      <th>date</th>\n",
       "      <th>locationId</th>\n",
       "      <th>state</th>\n",
       "      <th>docid</th>\n",
       "      <th>email</th>\n",
       "      <th>u_state</th>\n",
       "    </tr>\n",
       "  </thead>\n",
       "  <tbody>\n",
       "    <tr>\n",
       "      <th>0</th>\n",
       "      <td>2022-03-18 04:00:00+00:00</td>\n",
       "      <td>BrACWIg7Ar3xWgOU3Fdv</td>\n",
       "      <td>CHECKED_IN</td>\n",
       "      <td>1utcUa9fdheOlrMe9GOCjrJ3wjh1</td>\n",
       "      <td>btscheung+bennycorp@gmail.com</td>\n",
       "      <td>ACTIVE</td>\n",
       "    </tr>\n",
       "    <tr>\n",
       "      <th>1</th>\n",
       "      <td>2022-03-18 04:00:00+00:00</td>\n",
       "      <td>BrACWIg7Ar3xWgOU3Fdv</td>\n",
       "      <td>CHECKED_IN</td>\n",
       "      <td>1utcUa9fdheOlrMe9GOCjrJ3wjh1</td>\n",
       "      <td>btscheung+bennycorp@gmail.com</td>\n",
       "      <td>ACTIVE</td>\n",
       "    </tr>\n",
       "    <tr>\n",
       "      <th>2</th>\n",
       "      <td>2022-03-18 04:00:00+00:00</td>\n",
       "      <td>BrACWIg7Ar3xWgOU3Fdv</td>\n",
       "      <td>CHECKED_IN</td>\n",
       "      <td>1utcUa9fdheOlrMe9GOCjrJ3wjh1</td>\n",
       "      <td>btscheung+bennycorp@gmail.com</td>\n",
       "      <td>ACTIVE</td>\n",
       "    </tr>\n",
       "    <tr>\n",
       "      <th>3</th>\n",
       "      <td>2022-03-31 04:00:00+00:00</td>\n",
       "      <td>BrACWIg7Ar3xWgOU3Fdv</td>\n",
       "      <td>CHECKED_IN</td>\n",
       "      <td>xQDDc7SXpqXxRAxIQWb1xPqdGYw2</td>\n",
       "      <td>btscheung+hill6@gmail.com</td>\n",
       "      <td>ACTIVE</td>\n",
       "    </tr>\n",
       "    <tr>\n",
       "      <th>4</th>\n",
       "      <td>2022-04-13 04:00:00+00:00</td>\n",
       "      <td>BrACWIg7Ar3xWgOU3Fdv</td>\n",
       "      <td>CHECKED_IN</td>\n",
       "      <td>xQDDc7SXpqXxRAxIQWb1xPqdGYw2</td>\n",
       "      <td>btscheung+hill6@gmail.com</td>\n",
       "      <td>ACTIVE</td>\n",
       "    </tr>\n",
       "  </tbody>\n",
       "</table>\n",
       "</div>"
      ],
      "text/plain": [
       "                       date            locationId       state  \\\n",
       "0 2022-03-18 04:00:00+00:00  BrACWIg7Ar3xWgOU3Fdv  CHECKED_IN   \n",
       "1 2022-03-18 04:00:00+00:00  BrACWIg7Ar3xWgOU3Fdv  CHECKED_IN   \n",
       "2 2022-03-18 04:00:00+00:00  BrACWIg7Ar3xWgOU3Fdv  CHECKED_IN   \n",
       "3 2022-03-31 04:00:00+00:00  BrACWIg7Ar3xWgOU3Fdv  CHECKED_IN   \n",
       "4 2022-04-13 04:00:00+00:00  BrACWIg7Ar3xWgOU3Fdv  CHECKED_IN   \n",
       "\n",
       "                          docid                          email u_state  \n",
       "0  1utcUa9fdheOlrMe9GOCjrJ3wjh1  btscheung+bennycorp@gmail.com  ACTIVE  \n",
       "1  1utcUa9fdheOlrMe9GOCjrJ3wjh1  btscheung+bennycorp@gmail.com  ACTIVE  \n",
       "2  1utcUa9fdheOlrMe9GOCjrJ3wjh1  btscheung+bennycorp@gmail.com  ACTIVE  \n",
       "3  xQDDc7SXpqXxRAxIQWb1xPqdGYw2      btscheung+hill6@gmail.com  ACTIVE  \n",
       "4  xQDDc7SXpqXxRAxIQWb1xPqdGYw2      btscheung+hill6@gmail.com  ACTIVE  "
      ]
     },
     "execution_count": 3,
     "metadata": {},
     "output_type": "execute_result"
    }
   ],
   "source": [
    "company = 'bennycorp'\n",
    "\n",
    "sql1 = \"\"\"\n",
    "  SELECT docid, email, state\n",
    "    FROM\n",
    "      Companies/{}/Users\n",
    "    WHERE\n",
    "      state IN ('ACTIVE')\n",
    "\"\"\".format(company)\n",
    "\n",
    "sql2 = \"\"\"\n",
    "  SELECT *\n",
    "    FROM\n",
    "      Companies/{}/Users\n",
    "\"\"\".format(company)\n",
    "\n",
    "sql3 = \"\"\"\n",
    "  SELECT u.docid, u.email, u.state, b.date, b.locationId, b.state\n",
    "    FROM\n",
    "      Companies/{}/Users as u JOIN Companies/{}/Bookings as b\n",
    "      ON u.email = b.email\n",
    "    WHERE \n",
    "        u.state IN ('ACTIVE') and\n",
    "        b.state IN ('CHECKED_IN', 'CHECKED_OUT') and\n",
    "        b.date >= '2022-03-18T04:00:00'\n",
    "\"\"\".format(company, company)\n",
    "\n",
    "sql4 = \"\"\"\n",
    "  SELECT docid, email, state\n",
    "    FROM\n",
    "      Companies/{}/Users\n",
    "    WHERE\n",
    "      state IN ('ACTIVE') and\n",
    "      email NOT LIKE '%twotwo%'\n",
    "\"\"\".format(company)\n",
    "\n",
    "selectDocs = fireSQL.execute(sqlClient, sql3)\n",
    "df = pd.DataFrame(selectDocs)\n",
    "df"
   ]
  },
  {
   "cell_type": "code",
   "execution_count": 4,
   "metadata": {},
   "outputs": [
    {
     "data": {
      "text/html": [
       "<div>\n",
       "<style scoped>\n",
       "    .dataframe tbody tr th:only-of-type {\n",
       "        vertical-align: middle;\n",
       "    }\n",
       "\n",
       "    .dataframe tbody tr th {\n",
       "        vertical-align: top;\n",
       "    }\n",
       "\n",
       "    .dataframe thead th {\n",
       "        text-align: right;\n",
       "    }\n",
       "</style>\n",
       "<table border=\"1\" class=\"dataframe\">\n",
       "  <thead>\n",
       "    <tr style=\"text-align: right;\">\n",
       "      <th></th>\n",
       "      <th>email</th>\n",
       "      <th>state</th>\n",
       "      <th>docid</th>\n",
       "    </tr>\n",
       "  </thead>\n",
       "  <tbody>\n",
       "    <tr>\n",
       "      <th>0</th>\n",
       "      <td>btscheung+test1@gmail.com</td>\n",
       "      <td>ACTIVE</td>\n",
       "      <td>HQV9widccx898V9mAYe1</td>\n",
       "    </tr>\n",
       "  </tbody>\n",
       "</table>\n",
       "</div>"
      ],
      "text/plain": [
       "                       email   state                 docid\n",
       "0  btscheung+test1@gmail.com  ACTIVE  HQV9widccx898V9mAYe1"
      ]
     },
     "execution_count": 4,
     "metadata": {},
     "output_type": "execute_result"
    }
   ],
   "source": [
    "company = 'bennycorp'\n",
    "\n",
    "insert1 = \"\"\"\n",
    "  INSERT INTO Companies/{}/Users\n",
    "    (email, state)\n",
    "    VALUES ('btscheung+test1@gmail.com', 'ACTIVE')\n",
    "\"\"\".format(company)\n",
    "\n",
    "docs = fireSQL.execute(sqlClient, insert1)\n",
    "df = pd.DataFrame(docs)\n",
    "df"
   ]
  },
  {
   "cell_type": "code",
   "execution_count": 5,
   "metadata": {},
   "outputs": [
    {
     "data": {
      "text/html": [
       "<div>\n",
       "<style scoped>\n",
       "    .dataframe tbody tr th:only-of-type {\n",
       "        vertical-align: middle;\n",
       "    }\n",
       "\n",
       "    .dataframe tbody tr th {\n",
       "        vertical-align: top;\n",
       "    }\n",
       "\n",
       "    .dataframe thead th {\n",
       "        text-align: right;\n",
       "    }\n",
       "</style>\n",
       "<table border=\"1\" class=\"dataframe\">\n",
       "  <thead>\n",
       "    <tr style=\"text-align: right;\">\n",
       "      <th></th>\n",
       "      <th>docid</th>\n",
       "      <th>state</th>\n",
       "      <th>email</th>\n",
       "    </tr>\n",
       "  </thead>\n",
       "  <tbody>\n",
       "    <tr>\n",
       "      <th>0</th>\n",
       "      <td>HQV9widccx898V9mAYe1</td>\n",
       "      <td>INACTIVE</td>\n",
       "      <td>btscheung+test1@gmail.com</td>\n",
       "    </tr>\n",
       "  </tbody>\n",
       "</table>\n",
       "</div>"
      ],
      "text/plain": [
       "                  docid     state                      email\n",
       "0  HQV9widccx898V9mAYe1  INACTIVE  btscheung+test1@gmail.com"
      ]
     },
     "execution_count": 5,
     "metadata": {},
     "output_type": "execute_result"
    }
   ],
   "source": [
    "company = 'bennycorp'\n",
    "\n",
    "update1 = \"\"\"\n",
    "  UPDATE Companies/{}/Users\n",
    "  SET state = 'INACTIVE'\n",
    "  WHERE state = 'ACTIVE' and email = 'btscheung+test1@gmail.com'\n",
    "\"\"\".format(company)\n",
    "\n",
    "docs = fireSQL.execute(sqlClient, update1)\n",
    "df = pd.DataFrame(docs)\n",
    "df"
   ]
  },
  {
   "cell_type": "code",
   "execution_count": 7,
   "metadata": {},
   "outputs": [
    {
     "data": {
      "text/html": [
       "<div>\n",
       "<style scoped>\n",
       "    .dataframe tbody tr th:only-of-type {\n",
       "        vertical-align: middle;\n",
       "    }\n",
       "\n",
       "    .dataframe tbody tr th {\n",
       "        vertical-align: top;\n",
       "    }\n",
       "\n",
       "    .dataframe thead th {\n",
       "        text-align: right;\n",
       "    }\n",
       "</style>\n",
       "<table border=\"1\" class=\"dataframe\">\n",
       "  <thead>\n",
       "    <tr style=\"text-align: right;\">\n",
       "      <th></th>\n",
       "      <th>docid</th>\n",
       "      <th>email</th>\n",
       "      <th>state</th>\n",
       "      <th>events</th>\n",
       "    </tr>\n",
       "  </thead>\n",
       "  <tbody>\n",
       "    <tr>\n",
       "      <th>0</th>\n",
       "      <td>HQV9widccx898V9mAYe1</td>\n",
       "      <td>btscheung+test1@gmail.com</td>\n",
       "      <td>INACTIVE</td>\n",
       "      <td>[{'event': 'CREATION', 'date': 2022-04-23 21:5...</td>\n",
       "    </tr>\n",
       "  </tbody>\n",
       "</table>\n",
       "</div>"
      ],
      "text/plain": [
       "                  docid                      email     state  \\\n",
       "0  HQV9widccx898V9mAYe1  btscheung+test1@gmail.com  INACTIVE   \n",
       "\n",
       "                                              events  \n",
       "0  [{'event': 'CREATION', 'date': 2022-04-23 21:5...  "
      ]
     },
     "execution_count": 7,
     "metadata": {},
     "output_type": "execute_result"
    }
   ],
   "source": [
    "company = 'bennycorp'\n",
    "\n",
    "delete1 = \"\"\"\n",
    "DELETE\n",
    "  FROM Companies/{}/Users\n",
    "  WHERE \n",
    "    email = 'btscheung+test1@gmail.com'\n",
    "\n",
    "\"\"\".format(company)\n",
    "\n",
    "docs = fireSQL.execute(sqlClient, delete1)\n",
    "df = pd.DataFrame(docs)\n",
    "df"
   ]
  },
  {
   "cell_type": "code",
   "execution_count": null,
   "metadata": {},
   "outputs": [],
   "source": []
  }
 ],
 "metadata": {
  "interpreter": {
   "hash": "f78781e3f2636d84d117a598369309af04282d69a76074459b85d28f6ab3e4f1"
  },
  "kernelspec": {
   "display_name": "Python 3.7.11 ('hive')",
   "language": "python",
   "name": "python3"
  },
  "language_info": {
   "codemirror_mode": {
    "name": "ipython",
    "version": 3
   },
   "file_extension": ".py",
   "mimetype": "text/x-python",
   "name": "python",
   "nbconvert_exporter": "python",
   "pygments_lexer": "ipython3",
   "version": "3.7.13"
  },
  "orig_nbformat": 4
 },
 "nbformat": 4,
 "nbformat_minor": 2
}
