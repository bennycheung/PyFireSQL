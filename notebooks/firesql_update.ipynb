{
 "cells": [
  {
   "cell_type": "markdown",
   "metadata": {},
   "source": [
    "# SQL Parser using Lark\n",
    "### Lark\n",
    "- Ref: [Lark Documentation](https://lark-parser.readthedocs.io/en/latest/)\n",
    "  - Repo: [lark-parser](https://github.com/lark-parser/lark)\n",
    "\n",
    "### Lark SQL Parser\n",
    "- Ref: [sql_to_ibis](https://github.com/zbrookle/sql_to_ibis)\n",
    "- Ref: [ibis](https://github.com/ibis-project/ibis)\n",
    "  - Docs: https://ibis-project.org/docs/dev/\n",
    "\n",
    "`sql_to_ibis` is a [Python](https://www.python.org/) package that translates SQL syntax into [ibis](https://github.com/ibis-project/ibis) expressions. This provides the capability of using only one SQL dialect to target many different backends.\n",
    "\n",
    "- Ref: From `sql_to_ibis` project `sql_select_query.py`\n",
    "- Ref: SQL grammar file <https://github.com/zbrookle/sql_to_ibis/tree/main/sql_to_ibis/grammar>"
   ]
  },
  {
   "cell_type": "markdown",
   "metadata": {},
   "source": [
    "## Transform into Firebase Update\n",
    "### Transformers\n",
    "* **Transformers** -  work bottom-up (or depth-first), starting with visiting the leaves and working their way up until ending at the root of the tree.\n",
    "  * For each node visited, the transformer will call the appropriate method (callbacks), according to the node’s `data`, and use the returned value to replace the node, thereby creating a new tree structure.\n",
    "  * Transformers can be used to implement map & reduce patterns. Because nodes are reduced from leaf to root, at any point the callbacks may assume the children have already been transformed"
   ]
  },
  {
   "cell_type": "code",
   "execution_count": 1,
   "metadata": {},
   "outputs": [],
   "source": [
    "from firesql.firebase import FirebaseClient\n",
    "from firesql.sql.sql_fire_client import FireSQLClient\n",
    "\n",
    "firebaseClient = FirebaseClient()\n",
    "firebaseClient.connect(credentials_json='../credentials/credentials.json')\n",
    "\n",
    "# create FireSQLClient that is using the FireSQLAbstractClient interface.\n",
    "client = FireSQLClient(firebaseClient)"
   ]
  },
  {
   "cell_type": "code",
   "execution_count": 2,
   "metadata": {},
   "outputs": [],
   "source": [
    "import os\n",
    "from lark import Lark, tree\n",
    "\n",
    "_ROOT = \"../firesql/sql\"\n",
    "GRAMMAR_PATH = os.path.join(_ROOT, \"grammar\", \"firesql.lark\")\n",
    "with open(file=GRAMMAR_PATH) as sql_grammar_file:\n",
    "    _GRAMMAR_TEXT = sql_grammar_file.read()\n",
    "parser = Lark(_GRAMMAR_TEXT, parser=\"lalr\")"
   ]
  },
  {
   "cell_type": "code",
   "execution_count": 3,
   "metadata": {},
   "outputs": [
    {
     "data": {
      "text/plain": [
       "SQL_Update(table=SQL_SelectFrom(part='Companies/bennycorp/Users', alias=None), sets=[SQL_BinaryExpression(operator='==', left=SQL_ColumnRef(table=None, column='state', func=None), right=SQL_ValueString(value='INACTIVE'))], where=SQL_BinaryExpression(operator='and', left=SQL_BinaryExpression(operator='==', left=SQL_ColumnRef(table=None, column='state', func=None), right=SQL_ValueString(value='ACTIVE')), right=SQL_BinaryExpression(operator='==', left=SQL_ColumnRef(table=None, column='docid', func=None), right=SQL_ValueString(value='0r6YWowe9rW65yB1qTKsCe83cCm2'))))"
      ]
     },
     "execution_count": 3,
     "metadata": {},
     "output_type": "execute_result"
    }
   ],
   "source": [
    "from firesql.sql.sql_transformer import SelectTransformer\n",
    "\n",
    "company = 'bennycorp'\n",
    "\n",
    "sql1 = \"\"\"\n",
    "  UPDATE Companies/{}/Users\n",
    "  SET state = 'INACTIVE'\n",
    "  WHERE state = 'ACTIVE' AND docid = '0r6YWowe9rW65yB1qTKsCe83cCm2'\n",
    "\"\"\".format(company)\n",
    "\n",
    "ast = parser.parse(sql1)\n",
    "sqlCommand = SelectTransformer().transform(ast)\n",
    "sqlCommand"
   ]
  },
  {
   "cell_type": "code",
   "execution_count": 4,
   "metadata": {},
   "outputs": [],
   "source": [
    "from firesql.sql import SQLFireUpdate  \n",
    "\n",
    "fireQuery = SQLFireUpdate()\n",
    "queries = fireQuery.update_generate(sqlCommand, options={})"
   ]
  },
  {
   "cell_type": "code",
   "execution_count": 5,
   "metadata": {},
   "outputs": [
    {
     "name": "stdout",
     "output_type": "stream",
     "text": [
      "{'Companies/bennycorp/Users': 'Companies/bennycorp/Users'}\n",
      "{'Companies/bennycorp/Users': {'state': 'INACTIVE'}}\n",
      "{'Companies/bennycorp/Users': [['state', '==', 'ACTIVE'], ['docid', '==', '0r6YWowe9rW65yB1qTKsCe83cCm2']]}\n"
     ]
    }
   ],
   "source": [
    "print(fireQuery.collections)\n",
    "print(fireQuery.sets)\n",
    "print(queries)"
   ]
  },
  {
   "cell_type": "code",
   "execution_count": 6,
   "metadata": {},
   "outputs": [
    {
     "data": {
      "text/plain": [
       "{'Companies/bennycorp/Users': [['state', '==', 'ACTIVE'],\n",
       "  ['docid', '==', '0r6YWowe9rW65yB1qTKsCe83cCm2']]}"
      ]
     },
     "execution_count": 6,
     "metadata": {},
     "output_type": "execute_result"
    }
   ],
   "source": [
    "fireQueries = fireQuery.firebase_queries(queries)\n",
    "fireQueries"
   ]
  },
  {
   "cell_type": "code",
   "execution_count": 7,
   "metadata": {},
   "outputs": [
    {
     "data": {
      "text/plain": [
       "{'Companies/bennycorp/Users': []}"
      ]
     },
     "execution_count": 7,
     "metadata": {},
     "output_type": "execute_result"
    }
   ],
   "source": [
    "filterQueries = fireQuery.filter_queries(queries)\n",
    "filterQueries"
   ]
  },
  {
   "cell_type": "code",
   "execution_count": 8,
   "metadata": {},
   "outputs": [],
   "source": [
    "documents = fireQuery.execute(client, fireQueries)"
   ]
  },
  {
   "cell_type": "code",
   "execution_count": 9,
   "metadata": {},
   "outputs": [
    {
     "data": {
      "text/plain": [
       "{'Companies/bennycorp/Users': {'0r6YWowe9rW65yB1qTKsCe83cCm2': {'access': {'hasAccess': True},\n",
       "   'preferredSeats': ['10eB0ir2u522CmwXgFvz'],\n",
       "   'groups': ['NLu0L6sEOUJHFBRCiylr'],\n",
       "   'firstName': 'Benny',\n",
       "   'vaccination': None,\n",
       "   'emailVerified': True,\n",
       "   'events': [{'date': DatetimeWithNanoseconds(2022, 2, 25, 14, 46, 29, 68000, tzinfo=datetime.timezone.utc),\n",
       "     'event': 'CREATION'},\n",
       "    {'new_state': 'ACTIVE',\n",
       "     'event': 'STATE_CHANGE',\n",
       "     'old_state': 'INACTIVE',\n",
       "     'date': DatetimeWithNanoseconds(2022, 2, 25, 14, 47, 18, 78000, tzinfo=datetime.timezone.utc)},\n",
       "    {'event': 'ACCESS_POLICY_CHANGE',\n",
       "     'date': DatetimeWithNanoseconds(2022, 2, 28, 19, 7, 40, 865000, tzinfo=datetime.timezone.utc)}],\n",
       "   'state': 'ACTIVE',\n",
       "   'roles': [],\n",
       "   'lastName': 'Real',\n",
       "   'externalId': None,\n",
       "   'assignedSeats': [],\n",
       "   'email': 'btscheung+real@gmail.com'}}}"
      ]
     },
     "execution_count": 9,
     "metadata": {},
     "output_type": "execute_result"
    }
   ],
   "source": [
    "filterDocs = fireQuery.filter_documents(documents, filterQueries)\n",
    "filterDocs"
   ]
  },
  {
   "cell_type": "code",
   "execution_count": 10,
   "metadata": {},
   "outputs": [],
   "source": [
    "selectDocs = fireQuery.update_post_process(filterDocs)"
   ]
  },
  {
   "cell_type": "code",
   "execution_count": 11,
   "metadata": {},
   "outputs": [
    {
     "data": {
      "text/plain": [
       "['access',\n",
       " 'assignedSeats',\n",
       " 'docid',\n",
       " 'email',\n",
       " 'emailVerified',\n",
       " 'events',\n",
       " 'externalId',\n",
       " 'firstName',\n",
       " 'groups',\n",
       " 'lastName',\n",
       " 'preferredSeats',\n",
       " 'roles',\n",
       " 'state',\n",
       " 'vaccination']"
      ]
     },
     "execution_count": 11,
     "metadata": {},
     "output_type": "execute_result"
    }
   ],
   "source": [
    "fireQuery.select_fields()"
   ]
  },
  {
   "cell_type": "code",
   "execution_count": 12,
   "metadata": {},
   "outputs": [
    {
     "name": "stdout",
     "output_type": "stream",
     "text": [
      "\"access\",\"assignedSeats\",\"docid\",\"email\",\"emailVerified\",\"events\",\"externalId\",\"firstName\",\"groups\",\"lastName\",\"preferredSeats\",\"roles\",\"state\",\"vaccination\"\n",
      "\"{\\\"hasAccess\\\": true}\",\"\",\"0r6YWowe9rW65yB1qTKsCe83cCm2\",\"btscheung+real@gmail.com\",True,\"{\\\"date\\\": \\\"2022-02-25T14:46:29\\\", \\\"event\\\": \\\"CREATION\\\"},{\\\"new_state\\\": \\\"ACTIVE\\\", \\\"event\\\": \\\"STATE_CHANGE\\\", \\\"old_state\\\": \\\"INACTIVE\\\", \\\"date\\\": \\\"2022-02-25T14:47:18\\\"},{\\\"event\\\": \\\"ACCESS_POLICY_CHANGE\\\", \\\"date\\\": \\\"2022-02-28T19:07:40\\\"}\",None,\"Benny\",\"NLu0L6sEOUJHFBRCiylr\",\"Real\",\"10eB0ir2u522CmwXgFvz\",\"\",\"INACTIVE\",None\n"
     ]
    }
   ],
   "source": [
    "from firesql.sql import DocPrinter\n",
    "\n",
    "docPrinter = DocPrinter()\n",
    "docPrinter.printCSV(selectDocs, fireQuery.select_fields())"
   ]
  },
  {
   "cell_type": "code",
   "execution_count": 13,
   "metadata": {},
   "outputs": [],
   "source": [
    "selectDocs = fireQuery.update_execute(client, filterDocs)"
   ]
  },
  {
   "cell_type": "code",
   "execution_count": null,
   "metadata": {},
   "outputs": [],
   "source": []
  }
 ],
 "metadata": {
  "interpreter": {
   "hash": "f78781e3f2636d84d117a598369309af04282d69a76074459b85d28f6ab3e4f1"
  },
  "kernelspec": {
   "display_name": "Python 3.7.11 ('hive')",
   "language": "python",
   "name": "python3"
  },
  "language_info": {
   "codemirror_mode": {
    "name": "ipython",
    "version": 3
   },
   "file_extension": ".py",
   "mimetype": "text/x-python",
   "name": "python",
   "nbconvert_exporter": "python",
   "pygments_lexer": "ipython3",
   "version": "3.7.13"
  },
  "orig_nbformat": 4
 },
 "nbformat": 4,
 "nbformat_minor": 2
}
