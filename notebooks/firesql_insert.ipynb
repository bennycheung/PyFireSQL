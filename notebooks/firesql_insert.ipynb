{
 "cells": [
  {
   "cell_type": "markdown",
   "metadata": {},
   "source": [
    "# SQL Parser using Lark\n",
    "### Lark\n",
    "- Ref: [Lark Documentation](https://lark-parser.readthedocs.io/en/latest/)\n",
    "  - Repo: [lark-parser](https://github.com/lark-parser/lark)\n",
    "\n",
    "### Lark SQL Parser\n",
    "- Ref: [sql_to_ibis](https://github.com/zbrookle/sql_to_ibis)\n",
    "- Ref: [ibis](https://github.com/ibis-project/ibis)\n",
    "  - Docs: https://ibis-project.org/docs/dev/\n",
    "\n",
    "`sql_to_ibis` is a [Python](https://www.python.org/) package that translates SQL syntax into [ibis](https://github.com/ibis-project/ibis) expressions. This provides the capability of using only one SQL dialect to target many different backends.\n",
    "\n",
    "- Ref: From `sql_to_ibis` project `sql_select_query.py`\n",
    "- Ref: SQL grammar file <https://github.com/zbrookle/sql_to_ibis/tree/main/sql_to_ibis/grammar>"
   ]
  },
  {
   "cell_type": "markdown",
   "metadata": {},
   "source": [
    "## Transform into Firebase Insert\n",
    "### Transformers\n",
    "* **Transformers** -  work bottom-up (or depth-first), starting with visiting the leaves and working their way up until ending at the root of the tree.\n",
    "  * For each node visited, the transformer will call the appropriate method (callbacks), according to the node’s `data`, and use the returned value to replace the node, thereby creating a new tree structure.\n",
    "  * Transformers can be used to implement map & reduce patterns. Because nodes are reduced from leaf to root, at any point the callbacks may assume the children have already been transformed"
   ]
  },
  {
   "cell_type": "code",
   "execution_count": 1,
   "metadata": {},
   "outputs": [],
   "source": [
    "from firesql.firebase import FirebaseClient\n",
    "from firesql.sql.sql_fire_client import FireSQLClient\n",
    "\n",
    "firebaseClient = FirebaseClient()\n",
    "firebaseClient.connect(credentials_json='../credentials/credentials.json')\n",
    "\n",
    "# create FireSQLClient that is using the FireSQLAbstractClient interface.\n",
    "client = FireSQLClient(firebaseClient)"
   ]
  },
  {
   "cell_type": "code",
   "execution_count": 2,
   "metadata": {},
   "outputs": [],
   "source": [
    "import os\n",
    "from lark import Lark, tree\n",
    "\n",
    "_ROOT = \"../firesql/sql\"\n",
    "GRAMMAR_PATH = os.path.join(_ROOT, \"grammar\", \"firesql.lark\")\n",
    "with open(file=GRAMMAR_PATH) as sql_grammar_file:\n",
    "    _GRAMMAR_TEXT = sql_grammar_file.read()\n",
    "parser = Lark(_GRAMMAR_TEXT, parser=\"lalr\")"
   ]
  },
  {
   "cell_type": "code",
   "execution_count": 3,
   "metadata": {},
   "outputs": [
    {
     "data": {
      "text/plain": [
       "SQL_Insert(table=SQL_SelectFrom(part='Companies/bennycorp/Users', alias=None), columns=[SQL_ColumnRef(table=None, column='email', func=None), SQL_ColumnRef(table=None, column='state', func=None)], values=[SQL_ValueString(value='btscheung+test1@gmail.com'), SQL_ValueString(value='ACTIVE')])"
      ]
     },
     "execution_count": 3,
     "metadata": {},
     "output_type": "execute_result"
    }
   ],
   "source": [
    "from firesql.sql.sql_transformer import SelectTransformer\n",
    "\n",
    "company = 'bennycorp'\n",
    "\n",
    "sql1 = \"\"\"\n",
    "  INSERT INTO Companies/{}/Users (email, state)\n",
    "    VALUES ('btscheung+test1@gmail.com', 'ACTIVE')\n",
    "\"\"\".format(company)\n",
    "\n",
    "ast = parser.parse(sql1)\n",
    "statement = SelectTransformer().transform(ast)\n",
    "statement"
   ]
  },
  {
   "cell_type": "code",
   "execution_count": 4,
   "metadata": {},
   "outputs": [
    {
     "data": {
      "text/plain": [
       "True"
      ]
     },
     "execution_count": 4,
     "metadata": {},
     "output_type": "execute_result"
    }
   ],
   "source": [
    "from firesql.sql import SQLFireInsert\n",
    "\n",
    "sqlCommand = SQLFireInsert()\n",
    "sqlCommand.generate(statement, options={})"
   ]
  },
  {
   "cell_type": "code",
   "execution_count": 6,
   "metadata": {},
   "outputs": [
    {
     "name": "stdout",
     "output_type": "stream",
     "text": [
      "Companies/bennycorp/Users\n",
      "['email', 'state']\n",
      "['btscheung+test1@gmail.com', 'ACTIVE']\n"
     ]
    }
   ],
   "source": [
    "print(sqlCommand.part)\n",
    "print(sqlCommand.columns)\n",
    "print(sqlCommand.values)"
   ]
  },
  {
   "cell_type": "code",
   "execution_count": null,
   "metadata": {},
   "outputs": [],
   "source": []
  }
 ],
 "metadata": {
  "interpreter": {
   "hash": "f78781e3f2636d84d117a598369309af04282d69a76074459b85d28f6ab3e4f1"
  },
  "kernelspec": {
   "display_name": "Python 3.7.11 ('hive')",
   "language": "python",
   "name": "python3"
  },
  "language_info": {
   "codemirror_mode": {
    "name": "ipython",
    "version": 3
   },
   "file_extension": ".py",
   "mimetype": "text/x-python",
   "name": "python",
   "nbconvert_exporter": "python",
   "pygments_lexer": "ipython3",
   "version": "3.7.13"
  },
  "orig_nbformat": 4
 },
 "nbformat": 4,
 "nbformat_minor": 2
}
