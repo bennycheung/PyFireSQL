{
 "cells": [
  {
   "cell_type": "markdown",
   "metadata": {},
   "source": [
    "# SQL Parser using Lark\n",
    "### Lark\n",
    "- Ref: [Lark Documentation](https://lark-parser.readthedocs.io/en/latest/)\n",
    "  - Repo: [lark-parser](https://github.com/lark-parser/lark)\n",
    "\n",
    "### Lark SQL Parser\n",
    "- Ref: [sql_to_ibis](https://github.com/zbrookle/sql_to_ibis)\n",
    "- Ref: [ibis](https://github.com/ibis-project/ibis)\n",
    "  - Docs: https://ibis-project.org/docs/dev/\n",
    "\n",
    "`sql_to_ibis` is a [Python](https://www.python.org/) package that translates SQL syntax into [ibis](https://github.com/ibis-project/ibis) expressions. This provides the capability of using only one SQL dialect to target many different backends.\n",
    "\n",
    "- Ref: From `sql_to_ibis` project `sql_select_query.py`\n",
    "- Ref: SQL grammar file <https://github.com/zbrookle/sql_to_ibis/tree/main/sql_to_ibis/grammar>"
   ]
  },
  {
   "cell_type": "markdown",
   "metadata": {},
   "source": [
    "## Firebase Client"
   ]
  },
  {
   "cell_type": "code",
   "execution_count": 1,
   "metadata": {},
   "outputs": [],
   "source": [
    "from firesql.firebase import FirebaseClient\n",
    "from firesql.sql.sql_fire_client import FireSQLClient\n",
    "\n",
    "firebaseClient = FirebaseClient()\n",
    "firebaseClient.connect(credentials_json='../credentials/credentials.json')\n",
    "\n",
    "# create FireSQLClient that is using the FireSQLAbstractClient interface.\n",
    "client = FireSQLClient(firebaseClient)"
   ]
  },
  {
   "cell_type": "code",
   "execution_count": 1,
   "metadata": {},
   "outputs": [],
   "source": [
    "import os\n",
    "from lark import Lark, tree\n",
    "\n",
    "_ROOT = \"../firesql/sql\"\n",
    "GRAMMAR_PATH = os.path.join(_ROOT, \"grammar\", \"firesql.lark\")\n",
    "with open(file=GRAMMAR_PATH) as sql_grammar_file:\n",
    "    _GRAMMAR_TEXT = sql_grammar_file.read()\n",
    "parser = Lark(_GRAMMAR_TEXT, parser=\"lalr\")"
   ]
  },
  {
   "cell_type": "markdown",
   "metadata": {},
   "source": [
    "## SQL Insert"
   ]
  },
  {
   "cell_type": "code",
   "execution_count": 3,
   "metadata": {},
   "outputs": [
    {
     "data": {
      "text/plain": [
       "SQL_Insert(table=SQL_SelectFrom(part='Companies/bennycorp/Tests', alias=None), columns=[SQL_ColumnRef(table=None, column='email', func=None), SQL_ColumnRef(table=None, column='date', func=None), SQL_ColumnRef(table=None, column='event', func=None)], values=[SQL_ValueString(value='btscheung+test6@gmail.com'), SQL_ValueDateTime(value=datetime.datetime(2022, 4, 23, 0, 0)), SQL_ValueJSON(value={'date': datetime.datetime(2022, 4, 20, 0, 0)})])"
      ]
     },
     "execution_count": 3,
     "metadata": {},
     "output_type": "execute_result"
    }
   ],
   "source": [
    "from firesql.sql.sql_transformer import SQLTransformer\n",
    "\n",
    "company = 'bennycorp'\n",
    "\n",
    "sql1 = \"\"\"\n",
    "  INSERT INTO Companies/bennycorp/Tests (email, state, event)\n",
    "    VALUES ( 'btscheung+test1@gmail.com', 'ACTIVE', JSON([\"a\",\"b\",\"c\"]) )\n",
    "\"\"\"\n",
    "\n",
    "sql2 = \"\"\"\n",
    "  INSERT INTO Companies/bennycorp/Tests (*)\n",
    "    VALUES (\n",
    "      JSON(\n",
    "        {\n",
    "          \"access\": {\n",
    "              \"hasAccess\": true\n",
    "          },\n",
    "          \"assignedSeats\": [],\n",
    "          \"email\": \"btscheung+twotwo@gmail.com\",\n",
    "          \"emailVerified\": true,\n",
    "          \"externalId\": null,\n",
    "          \"firstName\": \"Benny\",\n",
    "          \"groups\": [],\n",
    "          \"lastName\": \"TwoTwo\",\n",
    "          \"preferredSeats\": [],\n",
    "          \"roles\": [\n",
    "              \"CLEANER\"\n",
    "          ],\n",
    "          \"state\": \"ACTIVE\",\n",
    "          \"vaccination\": null\n",
    "      }\n",
    "      )\n",
    "    )\n",
    "\"\"\"\n",
    "\n",
    "sql3 = \"\"\"\n",
    "INSERT INTO Companies/bennycorp/Tests (email, date, event)\n",
    "VALUES ('btscheung+test6@gmail.com', '2022-04-23T00:00:00', JSON({\"date\": \"2022-04-20T00:00:00\"}))\n",
    "\"\"\"\n",
    "\n",
    "ast = parser.parse(sql3)\n",
    "statements = SQLTransformer().transform(ast)\n",
    "statements[0]"
   ]
  },
  {
   "cell_type": "code",
   "execution_count": 4,
   "metadata": {},
   "outputs": [
    {
     "data": {
      "text/plain": [
       "True"
      ]
     },
     "execution_count": 4,
     "metadata": {},
     "output_type": "execute_result"
    }
   ],
   "source": [
    "from firesql.sql import SQLFireInsert\n",
    "\n",
    "sqlCommand = SQLFireInsert()\n",
    "sqlCommand.generate(statements[0], options={})"
   ]
  },
  {
   "cell_type": "code",
   "execution_count": 5,
   "metadata": {},
   "outputs": [
    {
     "name": "stdout",
     "output_type": "stream",
     "text": [
      "Companies/bennycorp/Tests\n",
      "['email', 'date', 'event']\n",
      "['btscheung+test6@gmail.com', datetime.datetime(2022, 4, 23, 0, 0), {'date': datetime.datetime(2022, 4, 20, 0, 0)}]\n"
     ]
    }
   ],
   "source": [
    "print(sqlCommand.part)\n",
    "print(sqlCommand.columns)\n",
    "print(sqlCommand.values)"
   ]
  },
  {
   "cell_type": "code",
   "execution_count": 6,
   "metadata": {},
   "outputs": [
    {
     "name": "stdout",
     "output_type": "stream",
     "text": [
      "{'email': 'btscheung+test6@gmail.com', 'date': datetime.datetime(2022, 4, 23, 0, 0), 'event': {'date': datetime.datetime(2022, 4, 20, 0, 0)}}\n"
     ]
    }
   ],
   "source": [
    "document = sqlCommand.post_process()\n",
    "print(document)"
   ]
  },
  {
   "cell_type": "code",
   "execution_count": 7,
   "metadata": {},
   "outputs": [
    {
     "data": {
      "text/plain": [
       "{'email': 'btscheung+test6@gmail.com',\n",
       " 'date': datetime.datetime(2022, 4, 23, 0, 0),\n",
       " 'event': {'date': datetime.datetime(2022, 4, 20, 0, 0)},\n",
       " 'docid': 'KIaPk9wIWh3r4MgdNEKa'}"
      ]
     },
     "execution_count": 7,
     "metadata": {},
     "output_type": "execute_result"
    }
   ],
   "source": [
    "insertedDoc = sqlCommand.execute(client, document)\n",
    "insertedDoc"
   ]
  },
  {
   "cell_type": "markdown",
   "metadata": {},
   "source": [
    "## SQL Update"
   ]
  },
  {
   "cell_type": "code",
   "execution_count": 9,
   "metadata": {},
   "outputs": [
    {
     "data": {
      "text/plain": [
       "SQL_Update(table=SQL_SelectFrom(part='Companies/bennycorp/Users', alias=None), sets=[SQL_BinaryExpression(operator='==', left=SQL_ColumnRef(table=None, column='state', func=None), right=SQL_ValueString(value='INACTIVE'))], where=SQL_BinaryExpression(operator='and', left=SQL_BinaryExpression(operator='==', left=SQL_ColumnRef(table=None, column='state', func=None), right=SQL_ValueString(value='ACTIVE')), right=SQL_BinaryExpression(operator='==', left=SQL_ColumnRef(table=None, column='email', func=None), right=SQL_ValueString(value='btscheung+test1@gmail.com'))))"
      ]
     },
     "execution_count": 9,
     "metadata": {},
     "output_type": "execute_result"
    }
   ],
   "source": [
    "from firesql.sql.sql_transformer import SQLTransformer\n",
    "\n",
    "company = 'bennycorp'\n",
    "\n",
    "sql1 = \"\"\"\n",
    "  UPDATE Companies/bennycorp/Tests\n",
    "  SET state = 'INACTIVE'\n",
    "  WHERE state = 'ACTIVE' and email = 'btscheung+test1@gmail.com'\n",
    "\"\"\"\n",
    "\n",
    "ast = parser.parse(sql1)\n",
    "statements = SQLTransformer().transform(ast)\n",
    "statements[0]"
   ]
  },
  {
   "cell_type": "code",
   "execution_count": 10,
   "metadata": {},
   "outputs": [],
   "source": [
    "from firesql.sql import SQLFireUpdate  \n",
    "\n",
    "sqlCommand = SQLFireUpdate()\n",
    "queries = sqlCommand.generate(statements[0], options={})"
   ]
  },
  {
   "cell_type": "code",
   "execution_count": 11,
   "metadata": {},
   "outputs": [
    {
     "data": {
      "text/plain": [
       "{'Companies/bennycorp/Users': [['state', '==', 'ACTIVE'],\n",
       "  ['email', '==', 'btscheung+test1@gmail.com']]}"
      ]
     },
     "execution_count": 11,
     "metadata": {},
     "output_type": "execute_result"
    }
   ],
   "source": [
    "fireQueries = sqlCommand.firebase_queries(queries)\n",
    "fireQueries"
   ]
  },
  {
   "cell_type": "code",
   "execution_count": 12,
   "metadata": {},
   "outputs": [
    {
     "data": {
      "text/plain": [
       "{'Companies/bennycorp/Users': []}"
      ]
     },
     "execution_count": 12,
     "metadata": {},
     "output_type": "execute_result"
    }
   ],
   "source": [
    "filterQueries = sqlCommand.filter_queries(queries)\n",
    "filterQueries"
   ]
  },
  {
   "cell_type": "code",
   "execution_count": 13,
   "metadata": {},
   "outputs": [],
   "source": [
    "documents = sqlCommand.execute_query(client, fireQueries)"
   ]
  },
  {
   "cell_type": "code",
   "execution_count": 14,
   "metadata": {},
   "outputs": [
    {
     "data": {
      "text/plain": [
       "{'Companies/bennycorp/Users': {'KZkujJaukQBQdGtf559U': {'events': [{'event': 'CREATION',\n",
       "     'date': DatetimeWithNanoseconds(2022, 4, 23, 1, 35, 8, 627000, tzinfo=datetime.timezone.utc)}],\n",
       "   'email': 'btscheung+test1@gmail.com',\n",
       "   'state': 'ACTIVE'}}}"
      ]
     },
     "execution_count": 14,
     "metadata": {},
     "output_type": "execute_result"
    }
   ],
   "source": [
    "filterDocs = sqlCommand.filter_documents(documents, filterQueries)\n",
    "filterDocs"
   ]
  },
  {
   "cell_type": "code",
   "execution_count": 16,
   "metadata": {},
   "outputs": [],
   "source": [
    "selectDocs = sqlCommand.post_process(filterDocs)"
   ]
  },
  {
   "cell_type": "code",
   "execution_count": 17,
   "metadata": {},
   "outputs": [
    {
     "data": {
      "text/plain": [
       "['docid', 'email', 'events', 'state']"
      ]
     },
     "execution_count": 17,
     "metadata": {},
     "output_type": "execute_result"
    }
   ],
   "source": [
    "sqlCommand.select_fields()"
   ]
  },
  {
   "cell_type": "code",
   "execution_count": 18,
   "metadata": {},
   "outputs": [
    {
     "name": "stdout",
     "output_type": "stream",
     "text": [
      "\"docid\",\"email\",\"events\",\"state\"\n",
      "\"KZkujJaukQBQdGtf559U\",\"btscheung+test1@gmail.com\",\"{\\\"event\\\": \\\"CREATION\\\", \\\"date\\\": \\\"2022-04-23T01:35:08\\\"}\",\"INACTIVE\"\n"
     ]
    }
   ],
   "source": [
    "from firesql.sql import DocPrinter\n",
    "\n",
    "docPrinter = DocPrinter()\n",
    "docPrinter.printCSV(selectDocs, sqlCommand.select_fields())"
   ]
  },
  {
   "cell_type": "code",
   "execution_count": 19,
   "metadata": {},
   "outputs": [],
   "source": [
    "updatedDocs = sqlCommand.execute(client, filterDocs)"
   ]
  },
  {
   "cell_type": "markdown",
   "metadata": {},
   "source": [
    "## SQL Delete"
   ]
  },
  {
   "cell_type": "code",
   "execution_count": 20,
   "metadata": {},
   "outputs": [
    {
     "data": {
      "text/plain": [
       "SQL_Delete(table=SQL_SelectFrom(part='Companies/bennycorp/Users', alias=None), where=SQL_BinaryExpression(operator='==', left=SQL_ColumnRef(table=None, column='email', func=None), right=SQL_ValueString(value='btscheung+test1@gmail.com')))"
      ]
     },
     "execution_count": 20,
     "metadata": {},
     "output_type": "execute_result"
    }
   ],
   "source": [
    "from firesql.sql.sql_transformer import SQLTransformer\n",
    "\n",
    "company = 'bennycorp'\n",
    "\n",
    "sql1 = \"\"\"\n",
    "  DELETE FROM Companies/{}/Tests\n",
    "    WHERE \n",
    "      email = 'btscheung+test1@gmail.com'\n",
    "\"\"\".format(company)\n",
    "\n",
    "ast = parser.parse(sql1)\n",
    "statements = SQLTransformer().transform(ast)\n",
    "statements[0]"
   ]
  },
  {
   "cell_type": "code",
   "execution_count": 21,
   "metadata": {},
   "outputs": [],
   "source": [
    "from firesql.sql import SQLFireDelete\n",
    "\n",
    "sqlCommand = SQLFireDelete()\n",
    "queries = sqlCommand.generate(statements[0], options={})\n"
   ]
  },
  {
   "cell_type": "code",
   "execution_count": 22,
   "metadata": {},
   "outputs": [
    {
     "name": "stdout",
     "output_type": "stream",
     "text": [
      "{'Companies/bennycorp/Users': 'Companies/bennycorp/Users'}\n",
      "{'Companies/bennycorp/Users': [['email', '==', 'btscheung+test1@gmail.com']]}\n"
     ]
    }
   ],
   "source": [
    "print(sqlCommand.collections)\n",
    "print(queries)"
   ]
  },
  {
   "cell_type": "code",
   "execution_count": 23,
   "metadata": {},
   "outputs": [
    {
     "data": {
      "text/plain": [
       "{'Companies/bennycorp/Users': [['email', '==', 'btscheung+test1@gmail.com']]}"
      ]
     },
     "execution_count": 23,
     "metadata": {},
     "output_type": "execute_result"
    }
   ],
   "source": [
    "fireQueries = sqlCommand.firebase_queries(queries)\n",
    "fireQueries"
   ]
  },
  {
   "cell_type": "code",
   "execution_count": 24,
   "metadata": {},
   "outputs": [
    {
     "data": {
      "text/plain": [
       "{'Companies/bennycorp/Users': []}"
      ]
     },
     "execution_count": 24,
     "metadata": {},
     "output_type": "execute_result"
    }
   ],
   "source": [
    "filterQueries = sqlCommand.filter_queries(queries)\n",
    "filterQueries"
   ]
  },
  {
   "cell_type": "code",
   "execution_count": 25,
   "metadata": {},
   "outputs": [],
   "source": [
    "documents = sqlCommand.execute_query(client, fireQueries)"
   ]
  },
  {
   "cell_type": "code",
   "execution_count": 26,
   "metadata": {},
   "outputs": [
    {
     "data": {
      "text/plain": [
       "{'Companies/bennycorp/Users': {'KZkujJaukQBQdGtf559U': {'events': [{'event': 'CREATION',\n",
       "     'date': DatetimeWithNanoseconds(2022, 4, 23, 1, 35, 8, 627000, tzinfo=datetime.timezone.utc)}],\n",
       "   'state': 'INACTIVE',\n",
       "   'email': 'btscheung+test1@gmail.com'}}}"
      ]
     },
     "execution_count": 26,
     "metadata": {},
     "output_type": "execute_result"
    }
   ],
   "source": [
    "filterDocs = sqlCommand.filter_documents(documents, filterQueries)\n",
    "filterDocs"
   ]
  },
  {
   "cell_type": "code",
   "execution_count": 27,
   "metadata": {},
   "outputs": [],
   "source": [
    "selectDocs = sqlCommand.post_process(filterDocs)"
   ]
  },
  {
   "cell_type": "code",
   "execution_count": 28,
   "metadata": {},
   "outputs": [
    {
     "data": {
      "text/plain": [
       "['docid', 'email', 'events', 'state']"
      ]
     },
     "execution_count": 28,
     "metadata": {},
     "output_type": "execute_result"
    }
   ],
   "source": [
    "sqlCommand.select_fields()"
   ]
  },
  {
   "cell_type": "code",
   "execution_count": 29,
   "metadata": {},
   "outputs": [
    {
     "name": "stdout",
     "output_type": "stream",
     "text": [
      "\"docid\",\"email\",\"events\",\"state\"\n",
      "\"KZkujJaukQBQdGtf559U\",\"btscheung+test1@gmail.com\",\"{\\\"event\\\": \\\"CREATION\\\", \\\"date\\\": \\\"2022-04-23T01:35:08\\\"}\",\"INACTIVE\"\n"
     ]
    }
   ],
   "source": [
    "from firesql.sql import DocPrinter\n",
    "\n",
    "docPrinter = DocPrinter()\n",
    "docPrinter.printCSV(selectDocs, sqlCommand.select_fields())"
   ]
  },
  {
   "cell_type": "code",
   "execution_count": 30,
   "metadata": {},
   "outputs": [],
   "source": [
    "deletedDocs = sqlCommand.execute(client, filterDocs)"
   ]
  },
  {
   "cell_type": "code",
   "execution_count": null,
   "metadata": {},
   "outputs": [],
   "source": []
  }
 ],
 "metadata": {
  "interpreter": {
   "hash": "f78781e3f2636d84d117a598369309af04282d69a76074459b85d28f6ab3e4f1"
  },
  "kernelspec": {
   "display_name": "Python 3.7.11 ('hive')",
   "language": "python",
   "name": "python3"
  },
  "language_info": {
   "codemirror_mode": {
    "name": "ipython",
    "version": 3
   },
   "file_extension": ".py",
   "mimetype": "text/x-python",
   "name": "python",
   "nbconvert_exporter": "python",
   "pygments_lexer": "ipython3",
   "version": "3.7.13"
  },
  "orig_nbformat": 4
 },
 "nbformat": 4,
 "nbformat_minor": 2
}
